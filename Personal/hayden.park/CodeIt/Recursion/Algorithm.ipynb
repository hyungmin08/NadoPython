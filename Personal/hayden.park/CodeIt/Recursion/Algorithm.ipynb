{
 "cells": [
  {
   "attachments": {},
   "cell_type": "markdown",
   "metadata": {},
   "source": [
    "Brute Force : 가능한 모든 경우에 대해 시도하는 방법\n",
    "장점 : 직관적이고 명확 / 답을 확실하게 찾을 수 있음"
   ]
  },
  {
   "cell_type": "code",
   "execution_count": null,
   "metadata": {},
   "outputs": [],
   "source": [
    "# Quiz 1) 카드 뭉치 최대 조합\n",
    "# 기대결과 : 24 / 32 / 28\n",
    "\n",
    "def max_product(left_cards, right_cards):\n",
    "    # 여기에 코드를 작성하세요\n",
    "    max_value = 0\n",
    "    for left in left_cards:\n",
    "        for right in right_cards:\n",
    "            max_value = max(max_value, left*right)\n",
    "    return max_value\n",
    "# 테스트 코드\n",
    "print(max_product([1, 6, 5], [4, 2, 3]))\n",
    "print(max_product([1, -9, 3, 4], [2, 8, 3, 1]))\n",
    "print(max_product([-1, -7, 3], [-4, 3, 6]))"
   ]
  },
  {
   "cell_type": "code",
   "execution_count": null,
   "metadata": {},
   "outputs": [],
   "source": [
    "# Quiz 2) 가까운 매장 찾기\n",
    "\n",
    "# 제곱근 사용을 위한 sqrt 함수\n",
    "from math import sqrt\n",
    "\n",
    "# 두 매장의 직선 거리를 계산해 주는 함수\n",
    "def distance(store1, store2):\n",
    "    return sqrt((store1[0] - store2[0]) ** 2 + (store1[1] - store2[1]) ** 2)\n",
    "\n",
    "# 가장 가까운 두 매장을 찾아주는 함수\n",
    "def closest_pair(coordinates):\n",
    "    # 여기에 코드를 작성하세요\n",
    "    min_dis = distance(coordinates[0],coordinates[1])\n",
    "    \n",
    "    for first in coordinates:\n",
    "        temp_coor = coordinates\n",
    "        temp_coor.remove(first)\n",
    "        for second in temp_coor:\n",
    "            if distance(first,second) < min_dis:\n",
    "                min_dis = distance(first,second)\n",
    "                item1 = first\n",
    "                item2 = second\n",
    "\n",
    "    return [item1, item2]\n",
    "\n",
    "# 테스트 코드\n",
    "test_coordinates = [(2, 3), (12, 30), (40, 50), (5, 1), (12, 10), (3, 4)]\n",
    "print(closest_pair(test_coordinates))"
   ]
  },
  {
   "cell_type": "code",
   "execution_count": null,
   "metadata": {},
   "outputs": [],
   "source": [
    "# Quiz 3) 강남역 폭우\n",
    "# 건물과 건물 사이에 빗물 저장량 구하기\n",
    "\n",
    "# 내 코드\n",
    "def trapping_rain(buildings):\n",
    "    # 여기에 코드를 작성하세요\n",
    "    sum = 0\n",
    "    height = 0\n",
    "    max_val = 0\n",
    "    \n",
    "    for i in range(len(buildings)-1):\n",
    "        max_val = max(buildings[i:])\n",
    "        \n",
    "        if buildings[i] >= height:\n",
    "            height = buildings[i]\n",
    "        elif buildings[i] <= max_val:\n",
    "            height = min(height,max_val)\n",
    "        sum = sum + (height - buildings[i])\n",
    "        \n",
    "    return sum\n",
    "\n",
    "#해설코드\n",
    "\n",
    "# def trapping_rain(buildings):\n",
    "#     # 총 담기는 빗물의 양을 변수에 저장\n",
    "#     total_height = 0\n",
    "\n",
    "#     # 리스트의 각 인덱스을 돌면서 해당 칸에 담기는 빗물의 양을 구한다\n",
    "#     # 0번 인덱스와 마지막 인덱스는 볼 필요 없다\n",
    "#     for i in range(1, len(buildings) - 1):\n",
    "#         # 현재 인덱스를 기준으로 양쪽에 가장 높은 건물의 위치를 구한다\n",
    "#         max_left = max(buildings[:i])\n",
    "#         max_right = max(buildings[i:])\n",
    "\n",
    "#         # 현재 인덱스에 빗물이 담길 수 있는 높이\n",
    "#         upper_bound = min(max_left, max_right)\n",
    "\n",
    "#         # 현재 인덱스에 담기는 빗물의 양을 계산\n",
    "#         # 만약 upper_bound가 현재 인덱스 건물보다 높지 않다면, 현재 인덱스에 담기는 빗물은 0\n",
    "#         total_height += max(0, upper_bound - buildings[i])\n",
    "\n",
    "#     return total_height\n",
    "\n",
    "\n",
    "# 테스트 코드\n",
    "print(trapping_rain([3, 0, 0, 2, 0, 4]))\n",
    "print(trapping_rain([0, 1, 0, 2, 1, 0, 1, 3, 2, 1, 2, 1]))"
   ]
  },
  {
   "attachments": {},
   "cell_type": "markdown",
   "metadata": {},
   "source": [
    "Divide and Conquer 분할 정복\n",
    "문제를 부분문제로 나누어 접근\n",
    "1. Divide 단계 : 분할\n",
    "2. Conquer 단계 : 부분문제를 정복\n",
    "3. Combine 단계 : 각각의 Solution 을 이용해 기존 문제를 해결\n",
    "\n",
    "1~100의 합\n",
    "=> 1~50의 합 / 51~100의 합\n",
    "=> 1~8의 합\n",
    "=> 1~4의 합 / 5~8의 합\n",
    "=> 1~2의 합 / 3~4의 합\n",
    "=> 1~1의 합 / 2~2의 합 (Base case)"
   ]
  },
  {
   "cell_type": "code",
   "execution_count": null,
   "metadata": {},
   "outputs": [],
   "source": [
    "# Quiz 4) 1부터 n까지의 합\n",
    "def consecutive_sum(start, end):\n",
    "    # 여기에 코드를 작성하세요\n",
    "    if start == end:\n",
    "        return start\n",
    "    median = int((start + end)/2)\n",
    "    return consecutive_sum(start,median) + consecutive_sum(median+1,end)\n",
    "    \n",
    "    \n",
    "# 테스트 코드\n",
    "print(consecutive_sum(1, 10))\n",
    "print(consecutive_sum(1, 100))\n",
    "print(consecutive_sum(1, 253))\n",
    "print(consecutive_sum(1, 388)) "
   ]
  },
  {
   "attachments": {},
   "cell_type": "markdown",
   "metadata": {},
   "source": [
    "합병정렬(Merge Sort)\n",
    "나눈 다음, 정렬하면서 합침"
   ]
  },
  {
   "cell_type": "code",
   "execution_count": 108,
   "metadata": {},
   "outputs": [
    {
     "name": "stdout",
     "output_type": "stream",
     "text": [
      "[1]\n",
      "[1]\n",
      "[1, 2]\n",
      "[1, 2, 3, 4, 5, 6, 7, 8]\n",
      "[1, 2, 3, 4, 5, 6, 7, 8]\n",
      "[1, 3, 6, 7, 4, 8, 9, 10]\n"
     ]
    }
   ],
   "source": [
    "# Quiz 5) merge 함수 작성\n",
    "\n",
    "# 정답코드 : while문 사용\n",
    "# def merge(list1, list2):\n",
    "#     i = 0\n",
    "#     j = 0\n",
    "\n",
    "#     # 정렬된 항목들을 담을 리스트\n",
    "#     merged_list = []\n",
    "\n",
    "#     # list1과 list2를 돌면서 merged_list에 항목 정렬\n",
    "#     while i < len(list1) and j < len(list2):\n",
    "#         if list1[i] > list2[j]:\n",
    "#             merged_list.append(list2[j])\n",
    "#             j += 1\n",
    "#         else:\n",
    "#             merged_list.append(list1[i])\n",
    "#             i += 1\n",
    "\n",
    "#     # list2에 남은 항목이 있으면 정렬 리스트에 추가\n",
    "#     if i == len(list1):\n",
    "#         merged_list += list2[j:]\n",
    "\n",
    "#     # list1에 남은 항목이 있으면 정렬 리스트에 추가\n",
    "#     elif j == len(list2):\n",
    "#         merged_list += list1[i:]\n",
    "\n",
    "#     return merged_list\n",
    "\n",
    "def merge(list1, list2):\n",
    "    # 여기에 코드를 작성하세요\n",
    "    if len(list1) == 0 or len(list2)==0:\n",
    "        return list1 + list2\n",
    "    \n",
    "    if list1[0] < list2[0]:\n",
    "        item = [list1.pop(0)]\n",
    "    else:\n",
    "        item = [list2.pop(0)]\n",
    "    return item + merge(list1,list2)\n",
    "    \n",
    "# 테스트 코드\n",
    "print(merge([1],[]))\n",
    "print(merge([],[1]))\n",
    "print(merge([2],[1]))\n",
    "print(merge([1, 2, 3, 4],[5, 6, 7, 8]))\n",
    "print(merge([5, 6, 7, 8],[1, 2, 3, 4]))\n",
    "print(merge([4, 7, 8, 9],[1, 3, 6, 10]))"
   ]
  },
  {
   "cell_type": "code",
   "execution_count": null,
   "metadata": {},
   "outputs": [],
   "source": [
    "# Quiz 6) 합병 정렬 구현하기\n",
    "def merge(list1, list2):\n",
    "    # 지난 실습의 코드를 여기에 붙여 넣으세요\n",
    "    if len(list1) == 0 or len(list2)==0:\n",
    "        return list1 + list2\n",
    "    \n",
    "    if list1[0] < list2[0]:\n",
    "        item = [list1.pop(0)]\n",
    "    else:\n",
    "        item = [list2.pop(0)]\n",
    "    return item + merge(list1,list2)\n",
    "# 합병 정렬\n",
    "def merge_sort(my_list):\n",
    "    # 여기에 코드를 작성하세요\n",
    "\n",
    "# 테스트 코드\n",
    "print(merge_sort([1, 3, 5, 7, 9, 11, 13, 11]))\n",
    "print(merge_sort([28, 13, 9, 30, 1, 48, 5, 7, 15]))\n",
    "print(merge_sort([2, 5, 6, 7, 1, 2, 4, 7, 10, 11, 4, 15, 13, 1, 6, 4]))\n"
   ]
  }
 ],
 "metadata": {
  "kernelspec": {
   "display_name": "Python 3",
   "language": "python",
   "name": "python3"
  },
  "language_info": {
   "codemirror_mode": {
    "name": "ipython",
    "version": 3
   },
   "file_extension": ".py",
   "mimetype": "text/x-python",
   "name": "python",
   "nbconvert_exporter": "python",
   "pygments_lexer": "ipython3",
   "version": "3.9.7"
  },
  "orig_nbformat": 4,
  "vscode": {
   "interpreter": {
    "hash": "9e99d8c8b602f870767ae4a80c156bd21a94de39c4f81fdcb8e6036dd632cd64"
   }
  }
 },
 "nbformat": 4,
 "nbformat_minor": 2
}
